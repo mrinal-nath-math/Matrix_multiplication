{
  "nbformat": 4,
  "nbformat_minor": 0,
  "metadata": {
    "colab": {
      "provenance": []
    },
    "kernelspec": {
      "name": "python3",
      "display_name": "Python 3"
    },
    "language_info": {
      "name": "python"
    }
  },
  "cells": [
    {
      "cell_type": "code",
      "execution_count": 3,
      "metadata": {
        "colab": {
          "base_uri": "https://localhost:8080/"
        },
        "id": "8QoEnbiflzKX",
        "outputId": "6242e1fb-c50a-4b96-c45d-9eb17b7d6a39"
      },
      "outputs": [
        {
          "output_type": "stream",
          "name": "stdout",
          "text": [
            "P^8 =\n",
            "[[0.203125   0.3984375  0.3984375 ]\n",
            " [0.19921875 0.40234375 0.3984375 ]\n",
            " [0.19921875 0.3984375  0.40234375]]\n"
          ]
        }
      ],
      "source": [
        "import numpy as np\n",
        "\n",
        "def matrix_power(matrix, n):\n",
        "\n",
        "    mat = np.array(matrix)\n",
        "\n",
        "    return np.linalg.matrix_power(mat, n)\n",
        "\n",
        "\n",
        "P = [\n",
        "    [0, 1,0],\n",
        "    [0,1/2,1/2],\n",
        "    [1/2,0,1/2]\n",
        "]\n",
        "n = 8\n",
        "\n",
        "result = matrix_power(P, n)\n",
        "print(\"P^{} =\".format(n))\n",
        "print(result)\n",
        "# This is to calculate the n-th power of a square matrix. It doesn't detect if the matrix is square. So, while giving input, please be careful. Otherwise it may show unexpected errors. Change the matrix \"P\" and power \"n\" according to your need."
      ]
    }
  ]
}